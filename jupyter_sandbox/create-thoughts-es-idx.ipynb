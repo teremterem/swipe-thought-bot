{
 "cells": [
  {
   "cell_type": "code",
   "execution_count": 1,
   "metadata": {},
   "outputs": [],
   "source": [
    "import sys\n",
    "sys.path.insert(0, '../')\n",
    "\n",
    "from helper_tools.helper_utils import set_env_vars\n",
    "set_env_vars()"
   ]
  },
  {
   "cell_type": "code",
   "execution_count": 2,
   "metadata": {},
   "outputs": [
    {
     "data": {
      "text/plain": [
       "'thoughts_prod_20210106'"
      ]
     },
     "execution_count": 2,
     "metadata": {},
     "output_type": "execute_result"
    }
   ],
   "source": [
    "from functions.common.elasticsearch import create_es_client, THOUGHTS_ES_IDX\n",
    "\n",
    "THOUGHTS_ES_IDX"
   ]
  },
  {
   "cell_type": "code",
   "execution_count": 3,
   "metadata": {},
   "outputs": [
    {
     "data": {
      "text/plain": [
       "{'acknowledged': True,\n",
       " 'shards_acknowledged': True,\n",
       " 'index': 'thoughts_prod_20210106'}"
      ]
     },
     "execution_count": 3,
     "metadata": {},
     "output_type": "execute_result"
    }
   ],
   "source": [
    "es = create_es_client()\n",
    "\n",
    "request_body = {\n",
    "    'settings': {\n",
    "        'analysis': {\n",
    "            'analyzer': {\n",
    "                'default': {\n",
    "                    'type': 'russian',\n",
    "                },\n",
    "            },\n",
    "        },\n",
    "    },\n",
    "    'mappings': {\n",
    "        'properties': {\n",
    "            'answer_thought_id': {'type': 'keyword'},\n",
    "            #'answer': {'type': 'text'},\n",
    "            #'ctx_thought_ids': {'type': 'keyword'},\n",
    "        },\n",
    "    },\n",
    "}\n",
    "es.indices.create(index=THOUGHTS_ES_IDX, body=request_body)"
   ]
  },
  {
   "cell_type": "code",
   "execution_count": null,
   "metadata": {},
   "outputs": [],
   "source": []
  }
 ],
 "metadata": {
  "kernelspec": {
   "display_name": "Python 3",
   "language": "python",
   "name": "python3"
  },
  "language_info": {
   "codemirror_mode": {
    "name": "ipython",
    "version": 3
   },
   "file_extension": ".py",
   "mimetype": "text/x-python",
   "name": "python",
   "nbconvert_exporter": "python",
   "pygments_lexer": "ipython3",
   "version": "3.8.6"
  }
 },
 "nbformat": 4,
 "nbformat_minor": 4
}
