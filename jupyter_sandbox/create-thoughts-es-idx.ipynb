{
 "cells": [
  {
   "cell_type": "code",
   "execution_count": 1,
   "metadata": {},
   "outputs": [],
   "source": [
    "import sys\n",
    "sys.path.insert(0, '../')\n",
    "\n",
    "from helper_tools.helper_utils import set_env_vars\n",
    "\n",
    "set_env_vars(backend_stage='oleksandr')"
   ]
  },
  {
   "cell_type": "code",
   "execution_count": 2,
   "metadata": {},
   "outputs": [
    {
     "data": {
      "text/plain": [
       "'thoughts_oleksandr_20210112'"
      ]
     },
     "execution_count": 2,
     "metadata": {},
     "output_type": "execute_result"
    }
   ],
   "source": [
    "from functions.common.elasticsearch import create_es_client, THOUGHTS_ES_IDX\n",
    "\n",
    "THOUGHTS_ES_IDX"
   ]
  },
  {
   "cell_type": "code",
   "execution_count": 3,
   "metadata": {},
   "outputs": [
    {
     "data": {
      "text/plain": [
       "{'acknowledged': True,\n",
       " 'shards_acknowledged': True,\n",
       " 'index': 'thoughts_oleksandr_20210112'}"
      ]
     },
     "execution_count": 3,
     "metadata": {},
     "output_type": "execute_result"
    }
   ],
   "source": [
    "es = create_es_client()\n",
    "\n",
    "request_body = {\n",
    "    'settings': {\n",
    "        'analysis': {\n",
    "            'analyzer': {\n",
    "                'default': {\n",
    "                    'type': 'russian',\n",
    "                },\n",
    "            },\n",
    "        },\n",
    "    },\n",
    "    'mappings': {\n",
    "        'properties': {\n",
    "            'thought_id': {'type': 'keyword'},\n",
    "            #'thought': {'type': 'text'},\n",
    "            'msg_id': {'type': 'keyword'},\n",
    "            'chat_id': {'type': 'keyword'},\n",
    "            'bot_id': {'type': 'keyword'},\n",
    "            'swiper_state_before': {'type': 'keyword'},\n",
    "            'telegram_state_before': {'type': 'keyword'},\n",
    "        },\n",
    "    },\n",
    "}\n",
    "es.indices.create(index=THOUGHTS_ES_IDX, body=request_body)"
   ]
  },
  {
   "cell_type": "code",
   "execution_count": null,
   "metadata": {},
   "outputs": [],
   "source": []
  }
 ],
 "metadata": {
  "kernelspec": {
   "display_name": "Python 3",
   "language": "python",
   "name": "python3"
  },
  "language_info": {
   "codemirror_mode": {
    "name": "ipython",
    "version": 3
   },
   "file_extension": ".py",
   "mimetype": "text/x-python",
   "name": "python",
   "nbconvert_exporter": "python",
   "pygments_lexer": "ipython3",
   "version": "3.8.6"
  }
 },
 "nbformat": 4,
 "nbformat_minor": 4
}
