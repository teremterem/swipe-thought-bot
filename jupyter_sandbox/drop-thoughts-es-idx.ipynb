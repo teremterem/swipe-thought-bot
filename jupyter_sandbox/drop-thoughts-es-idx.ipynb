{
 "cells": [
  {
   "cell_type": "code",
   "execution_count": 1,
   "metadata": {},
   "outputs": [
    {
     "data": {
      "text/plain": [
       "{'SLS_STAGE': 'oleksandr',\n",
       " 'AWS_PROFILE': 'stbot',\n",
       " 'AWS_REGION': 'us-east-1',\n",
       " 'LOG_LEVEL': 'INFO',\n",
       " 'TELEGRAM_TOKEN': '1489925347:AAEOW2EBrurPGHOJE0R8tPCpDqYF0HFVeTU',\n",
       " 'WEBHOOK_TOKEN': '1489925347_AAEOW2EBrurPGHOJE0R8tPCpDqYF0HFVeTU',\n",
       " 'ES_HOST': 'search-es-small-stb-oleksandr-p6m5kascymjfrkrzumgvq7wog4.us-east-1.es.amazonaws.com',\n",
       " 'THOUGHTS_ES_IDX': 'thoughts_20201227'}"
      ]
     },
     "execution_count": 1,
     "metadata": {},
     "output_type": "execute_result"
    }
   ],
   "source": [
    "import yaml\n",
    "with open('../serverless.env.yml') as f:\n",
    "  env_yml = yaml.safe_load(f)\n",
    "env_yml"
   ]
  },
  {
   "cell_type": "code",
   "execution_count": 2,
   "metadata": {},
   "outputs": [],
   "source": [
    "import os\n",
    "os.environ['LOG_LEVEL'] = env_yml['LOG_LEVEL']\n",
    "os.environ['ES_REGION'] = env_yml['AWS_REGION']\n",
    "os.environ['ES_HOST'] = env_yml['ES_HOST']\n",
    "os.environ['THOUGHTS_ES_IDX'] = env_yml['THOUGHTS_ES_IDX']"
   ]
  },
  {
   "cell_type": "code",
   "execution_count": 3,
   "metadata": {},
   "outputs": [],
   "source": [
    "import sys\n",
    "sys.path.insert(0, '../')\n",
    "from functions.common.elasticsearch import create_es_client, THOUGHTS_ES_IDX"
   ]
  },
  {
   "cell_type": "code",
   "execution_count": 4,
   "metadata": {},
   "outputs": [
    {
     "data": {
      "text/plain": [
       "<Elasticsearch([{'host': 'search-es-small-stb-oleksandr-p6m5kascymjfrkrzumgvq7wog4.us-east-1.es.amazonaws.com'}])>"
      ]
     },
     "execution_count": 4,
     "metadata": {},
     "output_type": "execute_result"
    }
   ],
   "source": [
    "es = create_es_client()\n",
    "es"
   ]
  },
  {
   "cell_type": "code",
   "execution_count": 5,
   "metadata": {},
   "outputs": [
    {
     "data": {
      "text/plain": [
       "{'acknowledged': True}"
      ]
     },
     "execution_count": 5,
     "metadata": {},
     "output_type": "execute_result"
    }
   ],
   "source": [
    "es.indices.delete(THOUGHTS_ES_IDX)"
   ]
  },
  {
   "cell_type": "code",
   "execution_count": null,
   "metadata": {},
   "outputs": [],
   "source": []
  }
 ],
 "metadata": {
  "kernelspec": {
   "display_name": "Python 3",
   "language": "python",
   "name": "python3"
  },
  "language_info": {
   "codemirror_mode": {
    "name": "ipython",
    "version": 3
   },
   "file_extension": ".py",
   "mimetype": "text/x-python",
   "name": "python",
   "nbconvert_exporter": "python",
   "pygments_lexer": "ipython3",
   "version": "3.8.6"
  }
 },
 "nbformat": 4,
 "nbformat_minor": 4
}
