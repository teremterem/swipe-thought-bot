{
 "cells": [
  {
   "cell_type": "code",
   "execution_count": 1,
   "metadata": {},
   "outputs": [],
   "source": [
    "import sys\n",
    "sys.path.insert(0, '../')\n",
    "\n",
    "from helper_tools.helper_utils import set_env_vars\n",
    "set_env_vars()"
   ]
  },
  {
   "cell_type": "code",
   "execution_count": 2,
   "metadata": {},
   "outputs": [
    {
     "data": {
      "text/plain": [
       "<Elasticsearch([{'host': 'search-es-small-stb-6vbtanlkbsb2hhavaujselqvhq.us-east-1.es.amazonaws.com'}])>"
      ]
     },
     "execution_count": 2,
     "metadata": {},
     "output_type": "execute_result"
    }
   ],
   "source": [
    "from functions.common.elasticsearch import create_es_client\n",
    "\n",
    "es = create_es_client()\n",
    "es"
   ]
  },
  {
   "cell_type": "code",
   "execution_count": 3,
   "metadata": {},
   "outputs": [
    {
     "name": "stdout",
     "output_type": "stream",
     "text": [
      "{'thoughts_20201227': {'aliases': {},\n",
      "                       'mappings': {'properties': {'answer': {'fields': {'keyword': {'ignore_above': 256,\n",
      "                                                                                     'type': 'keyword'}},\n",
      "                                                              'type': 'text'},\n",
      "                                                   'answer_thought_id': {'type': 'keyword'},\n",
      "                                                   'ctx1': {'fields': {'keyword': {'ignore_above': 256,\n",
      "                                                                                   'type': 'keyword'}},\n",
      "                                                            'type': 'text'},\n",
      "                                                   'ctx13': {'fields': {'keyword': {'ignore_above': 256,\n",
      "                                                                                    'type': 'keyword'}},\n",
      "                                                             'type': 'text'},\n",
      "                                                   'ctx2': {'fields': {'keyword': {'ignore_above': 256,\n",
      "                                                                                   'type': 'keyword'}},\n",
      "                                                            'type': 'text'},\n",
      "                                                   'ctx3': {'fields': {'keyword': {'ignore_above': 256,\n",
      "                                                                                   'type': 'keyword'}},\n",
      "                                                            'type': 'text'},\n",
      "                                                   'ctx5': {'fields': {'keyword': {'ignore_above': 256,\n",
      "                                                                                   'type': 'keyword'}},\n",
      "                                                            'type': 'text'},\n",
      "                                                   'ctx8': {'fields': {'keyword': {'ignore_above': 256,\n",
      "                                                                                   'type': 'keyword'}},\n",
      "                                                            'type': 'text'}}},\n",
      "                       'settings': {'index': {'analysis': {'analyzer': {'default': {'type': 'english'}}},\n",
      "                                              'creation_date': '1609892408511',\n",
      "                                              'number_of_replicas': '1',\n",
      "                                              'number_of_shards': '5',\n",
      "                                              'provided_name': 'thoughts_20201227',\n",
      "                                              'uuid': 'k-OKybmwQ6m50YfQGXnWiA',\n",
      "                                              'version': {'created': '7090199'}}}},\n",
      " 'thoughts_prod_20210106': {'aliases': {},\n",
      "                            'mappings': {'properties': {'answer_thought_id': {'type': 'keyword'}}},\n",
      "                            'settings': {'index': {'analysis': {'analyzer': {'default': {'type': 'russian'}}},\n",
      "                                                   'creation_date': '1609895474614',\n",
      "                                                   'number_of_replicas': '1',\n",
      "                                                   'number_of_shards': '5',\n",
      "                                                   'provided_name': 'thoughts_prod_20210106',\n",
      "                                                   'uuid': 'GKJF8Ll2S-uJ3tKP8NwlLQ',\n",
      "                                                   'version': {'created': '7090199'}}}}}\n"
     ]
    }
   ],
   "source": [
    "from pprint import pprint\n",
    "#pprint(es.indices.get('*'))\n",
    "pprint(es.indices.get('thoughts_*'))"
   ]
  },
  {
   "cell_type": "code",
   "execution_count": null,
   "metadata": {},
   "outputs": [],
   "source": []
  }
 ],
 "metadata": {
  "kernelspec": {
   "display_name": "Python 3",
   "language": "python",
   "name": "python3"
  },
  "language_info": {
   "codemirror_mode": {
    "name": "ipython",
    "version": 3
   },
   "file_extension": ".py",
   "mimetype": "text/x-python",
   "name": "python",
   "nbconvert_exporter": "python",
   "pygments_lexer": "ipython3",
   "version": "3.8.6"
  }
 },
 "nbformat": 4,
 "nbformat_minor": 4
}
