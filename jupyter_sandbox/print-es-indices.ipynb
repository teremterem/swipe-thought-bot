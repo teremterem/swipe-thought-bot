{
 "cells": [
  {
   "cell_type": "code",
   "execution_count": 1,
   "metadata": {},
   "outputs": [
    {
     "data": {
      "text/plain": [
       "{'SLS_STAGE': 'oleksandr',\n",
       " 'AWS_PROFILE': 'stbot',\n",
       " 'AWS_REGION': 'us-east-1',\n",
       " 'TELEGRAM_TOKEN': '1489925347:AAEOW2EBrurPGHOJE0R8tPCpDqYF0HFVeTU',\n",
       " 'ES_HOST': 'search-es-small-stb-oleksandr-p6m5kascymjfrkrzumgvq7wog4.us-east-1.es.amazonaws.com'}"
      ]
     },
     "execution_count": 1,
     "metadata": {},
     "output_type": "execute_result"
    }
   ],
   "source": [
    "import yaml\n",
    "with open('../serverless.env.yml') as f:\n",
    "  env_yml = yaml.safe_load(f)\n",
    "env_yml"
   ]
  },
  {
   "cell_type": "code",
   "execution_count": 2,
   "metadata": {},
   "outputs": [],
   "source": [
    "ES_REGION = env_yml['AWS_REGION']\n",
    "ES_HOST = env_yml['ES_HOST']"
   ]
  },
  {
   "cell_type": "code",
   "execution_count": 3,
   "metadata": {},
   "outputs": [],
   "source": [
    "import boto3\n",
    "from elasticsearch import Elasticsearch, RequestsHttpConnection\n",
    "from requests_aws4auth import AWS4Auth"
   ]
  },
  {
   "cell_type": "code",
   "execution_count": 4,
   "metadata": {},
   "outputs": [
    {
     "data": {
      "text/plain": [
       "<Elasticsearch([{'host': 'search-es-small-stb-oleksandr-p6m5kascymjfrkrzumgvq7wog4.us-east-1.es.amazonaws.com'}])>"
      ]
     },
     "execution_count": 4,
     "metadata": {},
     "output_type": "execute_result"
    }
   ],
   "source": [
    "cred = boto3.Session().get_credentials()\n",
    "awsauth = AWS4Auth(cred.access_key, cred.secret_key, ES_REGION, 'es', session_token=cred.token)\n",
    "\n",
    "es = Elasticsearch(hosts=[{'host': ES_HOST}], scheme=\"https\", port=443, http_auth=awsauth,\n",
    "                   connection_class=RequestsHttpConnection)\n",
    "es"
   ]
  },
  {
   "cell_type": "code",
   "execution_count": 5,
   "metadata": {},
   "outputs": [
    {
     "data": {
      "text/plain": [
       "{'.kibana_1': {'aliases': {'.kibana': {}},\n",
       "  'mappings': {'dynamic': 'strict',\n",
       "   '_meta': {'migrationMappingPropertyHashes': {'visualization': '52d7a13ad68a150c4525b292d23e12cc',\n",
       "     'references': '7997cf5a56cc02bdc9c93361bde732b0',\n",
       "     'query': '11aaeb7f5f7fa5bb43f25e18ce26e7d9',\n",
       "     'kql-telemetry': 'd12a98a6f19a2d273696597547e064ee',\n",
       "     'ui-metric': '0d409297dc5ebe1e3a1da691c6ee32e3',\n",
       "     'application_usage_transactional': '43b8830d5d0df85a6823d290885fc9fd',\n",
       "     'type': '2f4316de49999235636386fe51dc06c1',\n",
       "     'url': 'c7f66a0df8b1b52f17c28c4adb111105',\n",
       "     'migrationVersion': '4a1746014a75ade3a714e1db5763276f',\n",
       "     'sample-data-telemetry': '7d3cfeb915303c9641c59681967ffeb4',\n",
       "     'index-pattern': '66eccb05066c5a89924f48a9e9736499',\n",
       "     'search': '5c4b9a6effceb17ae8a0ab22d0c49767',\n",
       "     'application_usage_totals': '3d1b76c39bfb2cc8296b024d73854724',\n",
       "     'updated_at': '00da57df13e94e9d98437d13ace4bfe0',\n",
       "     'search-telemetry': '3d1b76c39bfb2cc8296b024d73854724',\n",
       "     'namespace': '2f4316de49999235636386fe51dc06c1',\n",
       "     'timelion-sheet': '9a2a2748877c7a7b582fef201ab1d4cf',\n",
       "     'config': 'c63748b75f39d0c54de12d12c1ccbc20',\n",
       "     'tsvb-validation-telemetry': '3a37ef6c8700ae6fc97d5c7da00e9215',\n",
       "     'dashboard': 'd00f614b29a80360e1190193fd333bab',\n",
       "     'namespaces': '2f4316de49999235636386fe51dc06c1'}},\n",
       "   'properties': {'application_usage_totals': {'type': 'object',\n",
       "     'dynamic': 'false'},\n",
       "    'application_usage_transactional': {'dynamic': 'false',\n",
       "     'properties': {'timestamp': {'type': 'date'}}},\n",
       "    'config': {'dynamic': 'false',\n",
       "     'properties': {'buildNum': {'type': 'keyword'}}},\n",
       "    'dashboard': {'properties': {'description': {'type': 'text'},\n",
       "      'hits': {'type': 'integer'},\n",
       "      'kibanaSavedObjectMeta': {'properties': {'searchSourceJSON': {'type': 'text'}}},\n",
       "      'optionsJSON': {'type': 'text'},\n",
       "      'panelsJSON': {'type': 'text'},\n",
       "      'refreshInterval': {'properties': {'display': {'type': 'keyword'},\n",
       "        'pause': {'type': 'boolean'},\n",
       "        'section': {'type': 'integer'},\n",
       "        'value': {'type': 'integer'}}},\n",
       "      'timeFrom': {'type': 'keyword'},\n",
       "      'timeRestore': {'type': 'boolean'},\n",
       "      'timeTo': {'type': 'keyword'},\n",
       "      'title': {'type': 'text'},\n",
       "      'version': {'type': 'integer'}}},\n",
       "    'index-pattern': {'properties': {'fieldFormatMap': {'type': 'text'},\n",
       "      'fields': {'type': 'text'},\n",
       "      'intervalName': {'type': 'keyword'},\n",
       "      'notExpandable': {'type': 'boolean'},\n",
       "      'sourceFilters': {'type': 'text'},\n",
       "      'timeFieldName': {'type': 'keyword'},\n",
       "      'title': {'type': 'text'},\n",
       "      'type': {'type': 'keyword'},\n",
       "      'typeMeta': {'type': 'keyword'}}},\n",
       "    'kql-telemetry': {'properties': {'optInCount': {'type': 'long'},\n",
       "      'optOutCount': {'type': 'long'}}},\n",
       "    'migrationVersion': {'dynamic': 'true',\n",
       "     'properties': {'config': {'type': 'text',\n",
       "       'fields': {'keyword': {'type': 'keyword', 'ignore_above': 256}}}}},\n",
       "    'namespace': {'type': 'keyword'},\n",
       "    'namespaces': {'type': 'keyword'},\n",
       "    'query': {'properties': {'description': {'type': 'text'},\n",
       "      'filters': {'type': 'object', 'enabled': False},\n",
       "      'query': {'properties': {'language': {'type': 'keyword'},\n",
       "        'query': {'type': 'keyword', 'index': False}}},\n",
       "      'timefilter': {'type': 'object', 'enabled': False},\n",
       "      'title': {'type': 'text'}}},\n",
       "    'references': {'type': 'nested',\n",
       "     'properties': {'id': {'type': 'keyword'},\n",
       "      'name': {'type': 'keyword'},\n",
       "      'type': {'type': 'keyword'}}},\n",
       "    'sample-data-telemetry': {'properties': {'installCount': {'type': 'long'},\n",
       "      'unInstallCount': {'type': 'long'}}},\n",
       "    'search': {'properties': {'columns': {'type': 'keyword', 'index': False},\n",
       "      'description': {'type': 'text'},\n",
       "      'hits': {'type': 'integer', 'index': False},\n",
       "      'kibanaSavedObjectMeta': {'properties': {'searchSourceJSON': {'type': 'text',\n",
       "         'index': False}}},\n",
       "      'sort': {'type': 'keyword', 'index': False},\n",
       "      'title': {'type': 'text'},\n",
       "      'version': {'type': 'integer'}}},\n",
       "    'search-telemetry': {'type': 'object', 'dynamic': 'false'},\n",
       "    'timelion-sheet': {'properties': {'description': {'type': 'text'},\n",
       "      'hits': {'type': 'integer'},\n",
       "      'kibanaSavedObjectMeta': {'properties': {'searchSourceJSON': {'type': 'text'}}},\n",
       "      'timelion_chart_height': {'type': 'integer'},\n",
       "      'timelion_columns': {'type': 'integer'},\n",
       "      'timelion_interval': {'type': 'keyword'},\n",
       "      'timelion_other_interval': {'type': 'keyword'},\n",
       "      'timelion_rows': {'type': 'integer'},\n",
       "      'timelion_sheet': {'type': 'text'},\n",
       "      'title': {'type': 'text'},\n",
       "      'version': {'type': 'integer'}}},\n",
       "    'tsvb-validation-telemetry': {'properties': {'failedRequests': {'type': 'long'}}},\n",
       "    'type': {'type': 'keyword'},\n",
       "    'ui-metric': {'properties': {'count': {'type': 'integer'}}},\n",
       "    'updated_at': {'type': 'date'},\n",
       "    'url': {'properties': {'accessCount': {'type': 'long'},\n",
       "      'accessDate': {'type': 'date'},\n",
       "      'createDate': {'type': 'date'},\n",
       "      'url': {'type': 'text',\n",
       "       'fields': {'keyword': {'type': 'keyword', 'ignore_above': 2048}}}}},\n",
       "    'visualization': {'properties': {'description': {'type': 'text'},\n",
       "      'kibanaSavedObjectMeta': {'properties': {'searchSourceJSON': {'type': 'text'}}},\n",
       "      'savedSearchRefName': {'type': 'keyword'},\n",
       "      'title': {'type': 'text'},\n",
       "      'uiStateJSON': {'type': 'text'},\n",
       "      'version': {'type': 'integer'},\n",
       "      'visState': {'type': 'text'}}}}},\n",
       "  'settings': {'index': {'number_of_shards': '1',\n",
       "    'auto_expand_replicas': '0-1',\n",
       "    'provided_name': '.kibana_1',\n",
       "    'creation_date': '1608925554946',\n",
       "    'number_of_replicas': '0',\n",
       "    'uuid': 'ALRNBbpHTUiBYmSkN5HjqQ',\n",
       "    'version': {'created': '7090199'}}}}}"
      ]
     },
     "execution_count": 5,
     "metadata": {},
     "output_type": "execute_result"
    }
   ],
   "source": [
    "es.indices.get('*')"
   ]
  },
  {
   "cell_type": "code",
   "execution_count": null,
   "metadata": {},
   "outputs": [],
   "source": []
  }
 ],
 "metadata": {
  "kernelspec": {
   "display_name": "Python 3",
   "language": "python",
   "name": "python3"
  },
  "language_info": {
   "codemirror_mode": {
    "name": "ipython",
    "version": 3
   },
   "file_extension": ".py",
   "mimetype": "text/x-python",
   "name": "python",
   "nbconvert_exporter": "python",
   "pygments_lexer": "ipython3",
   "version": "3.8.6"
  }
 },
 "nbformat": 4,
 "nbformat_minor": 4
}
