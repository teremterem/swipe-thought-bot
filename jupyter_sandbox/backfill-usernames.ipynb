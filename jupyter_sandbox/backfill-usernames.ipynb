{
 "cells": [
  {
   "cell_type": "code",
   "execution_count": 1,
   "id": "monthly-theology",
   "metadata": {},
   "outputs": [],
   "source": [
    "import sys\n",
    "sys.path.insert(0, '../')"
   ]
  },
  {
   "cell_type": "code",
   "execution_count": 2,
   "id": "hairy-convertible",
   "metadata": {},
   "outputs": [],
   "source": [
    "import os\n",
    "os.environ['LOG_LEVEL'] = 'INFO'\n",
    "os.environ['REGION'] = 'us-east-1'\n",
    "os.environ['SWIPER_CHAT_DATA_DDB_TABLE_NAME'] = 'SwiperChatData-stb-oleksandr'\n",
    "os.environ['MESSAGE_TRANSMISSION_DDB_TABLE_NAME'] = 'fake'\n",
    "os.environ['TOPIC_DDB_TABLE_NAME'] = 'fake'\n",
    "os.environ['ALLOGROOMING_DDB_TABLE_NAME'] = 'fake'\n",
    "os.environ['AUTHORIZE_STRANGERS_BY_DEFAULT'] = 'yes'\n",
    "os.environ['MAIN_S3_BUCKET_NAME'] = 'fake'\n",
    "os.environ['TELEGRAM_TOKEN'] = 'fake'"
   ]
  },
  {
   "cell_type": "code",
   "execution_count": 3,
   "id": "macro-protest",
   "metadata": {},
   "outputs": [],
   "source": [
    "from functions.common import swiper_chat_data, dynamodb\n",
    "from functions.swiper_experiments import swiper_telegram, japanese_names\n",
    "from pprint import pprint"
   ]
  },
  {
   "cell_type": "code",
   "execution_count": 4,
   "id": "sticky-dubai",
   "metadata": {},
   "outputs": [],
   "source": [
    "bot_id = 1455728922\n",
    "chat_ids = [\n",
    "    210723289,\n",
    "    1675870138,\n",
    "]"
   ]
  },
  {
   "cell_type": "code",
   "execution_count": 5,
   "id": "amino-progress",
   "metadata": {},
   "outputs": [
    {
     "name": "stdout",
     "output_type": "stream",
     "text": [
      "76\n",
      "75\n",
      "74\n"
     ]
    }
   ],
   "source": [
    "print(len(japanese_names.JAPANESE_UNISEX_GIVEN_NAMES))\n",
    "print()\n",
    "for chat_id in chat_ids:\n",
    "    swiper = swiper_telegram.Swiper(\n",
    "        chat_id=chat_id,\n",
    "        bot_id=bot_id,\n",
    "    )\n",
    "    swiper.swiper_username\n",
    "    japanese_names.JAPANESE_UNISEX_GIVEN_NAMES.remove(swiper.swiper_data[dynamodb.DdbFields.SWIPER_USERNAME][dynamodb.DdbFields.BASE_NAME])\n",
    "    print(len(japanese_names.JAPANESE_UNISEX_GIVEN_NAMES))\n",
    "    swiper.persist()"
   ]
  },
  {
   "cell_type": "code",
   "execution_count": null,
   "id": "brief-python",
   "metadata": {},
   "outputs": [],
   "source": []
  }
 ],
 "metadata": {
  "kernelspec": {
   "display_name": "Python 3",
   "language": "python",
   "name": "python3"
  },
  "language_info": {
   "codemirror_mode": {
    "name": "ipython",
    "version": 3
   },
   "file_extension": ".py",
   "mimetype": "text/x-python",
   "name": "python",
   "nbconvert_exporter": "python",
   "pygments_lexer": "ipython3",
   "version": "3.8.6"
  }
 },
 "nbformat": 4,
 "nbformat_minor": 5
}
